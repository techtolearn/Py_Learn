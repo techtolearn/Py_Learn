{
 "cells": [
  {
   "cell_type": "code",
   "execution_count": 1,
   "metadata": {
    "collapsed": true
   },
   "outputs": [
    {
     "name": "stdout",
     "output_type": "stream",
     "text": [
      "Om namho narayana \n"
     ]
    }
   ],
   "source": [
    "print(\"Om namho narayana \")"
   ]
  },
  {
   "cell_type": "markdown",
   "metadata": {},
   "source": [
    "Name='Satheesh'"
   ]
  },
  {
   "cell_type": "code",
   "execution_count": 9,
   "metadata": {},
   "outputs": [
    {
     "data": {
      "text/plain": [
       "'Kumar'"
      ]
     },
     "execution_count": 9,
     "metadata": {},
     "output_type": "execute_result"
    }
   ],
   "source": [
    "Name    "
   ]
  },
  {
   "cell_type": "code",
   "execution_count": 10,
   "metadata": {},
   "outputs": [],
   "source": [
    "Name = 'Kumar'"
   ]
  },
  {
   "cell_type": "code",
   "execution_count": 11,
   "metadata": {},
   "outputs": [
    {
     "data": {
      "text/plain": [
       "'Kumar'"
      ]
     },
     "execution_count": 11,
     "metadata": {},
     "output_type": "execute_result"
    }
   ],
   "source": [
    "Name"
   ]
  },
  {
   "cell_type": "code",
   "execution_count": 12,
   "metadata": {},
   "outputs": [
    {
     "name": "stdout",
     "output_type": "stream",
     "text": [
      "Package             Version  \n------------------- ---------\nAnyQt               0.0.10   \nautopep8            1.4.3    \nbleach              3.0.2    \ncertifi             2018.8.24\nchardet             3.0.4    \ncolorama            0.4.1    \nconfapp             1.0.1    \ncycler              0.10.0   \ndecorator           4.3.0    \ndefusedxml          0.5.0    \ndill                0.2.8.2  \nDjango              2.1.5    \ndjango-jfu-pyforms  2.0.9.1  \nentrypoints         0.3      \nfilelock            3.0.9    \nflake8              3.6.0    \nidna                2.7      \nipykernel           5.1.0    \nipython             5.0.0    \nipython-genutils    0.2.0    \nipywidgets          7.4.2    \nJinja2              2.10     \njsonschema          2.6.0    \njupyter             1.0.0    \njupyter-client      5.2.4    \njupyter-console     6.0.0    \njupyter-core        4.4.0    \nkiwisolver          1.0.1    \nlxml                4.2.5    \nMarkupSafe          1.1.0    \nmatplotlib          3.0.0    \nmccabe              0.6.1    \nmistune             0.8.4    \nnbconvert           5.4.0    \nnbformat            4.4.0    \nnotebook            5.7.4    \nnumpy               1.15.2   \nopencv-python       3.4.3.18 \nOrquestra           1.1      \npandocfilters       1.4.2    \npickleshare         0.7.5    \nPillow              5.3.0    \npip                 18.1     \nprometheus-client   0.5.0    \nprompt-toolkit      1.0.15   \npycodestyle         2.4.0    \npyflakes            2.0.0    \nPyForms             4.0.2    \nPyForms-GUI         4.0.11   \nPyForms-Terminal    4.0.5    \nPyForms-Web         4.0.7    \nPygments            2.3.1    \nPympler             0.6      \nPyOpenGL            3.1.0    \npyparsing           2.2.2    \nPyQt5               5.11.3   \nPyQt5-sip           4.19.13  \npyreadline          2.1      \npython-dateutil     2.7.3    \npython-docx         0.8.7    \npytz                2018.5   \npywinpty            0.5.5    \npyzmq               17.1.2   \nQScintilla          2.10.8   \nqtconsole           4.4.3    \nrequests            2.19.1   \nSend2Trash          1.5.0    \nsetuptools          39.0.1   \nsimplegeneric       0.8.1    \nsimplejson          3.16.0   \nsix                 1.11.0   \nsorl-thumbnail      12.5.0   \nterminado           0.8.1    \ntestpath            0.4.2    \ntornado             5.1.1    \ntraitlets           4.3.2    \nurllib3             1.23     \nvirtualenv          16.2.0   \nvisvis              1.11.1   \nwcwidth             0.1.7    \nwebencodings        0.5.1    \nwidgetsnbextension  3.4.2    \nwin-unicode-console 0.5      \n"
     ]
    }
   ],
   "source": [
    "!pip list"
   ]
  },
  {
   "cell_type": "code",
   "execution_count": 13,
   "metadata": {},
   "outputs": [
    {
     "data": {
      "text/plain": [
       "Available line magics:\n%alias  %alias_magic  %autocall  %automagic  %autosave  %bookmark  %cd  %clear  %cls  %colors  %config  %connect_info  %copy  %ddir  %debug  %dhist  %dirs  %doctest_mode  %echo  %ed  %edit  %env  %gui  %hist  %history  %killbgscripts  %ldir  %less  %load  %load_ext  %loadpy  %logoff  %logon  %logstart  %logstate  %logstop  %ls  %lsmagic  %macro  %magic  %matplotlib  %mkdir  %more  %notebook  %page  %pastebin  %pdb  %pdef  %pdoc  %pfile  %pinfo  %pinfo2  %popd  %pprint  %precision  %profile  %prun  %psearch  %psource  %pushd  %pwd  %pycat  %pylab  %qtconsole  %quickref  %recall  %rehashx  %reload_ext  %ren  %rep  %rerun  %reset  %reset_selective  %rmdir  %run  %save  %sc  %set_env  %store  %sx  %system  %tb  %time  %timeit  %unalias  %unload_ext  %who  %who_ls  %whos  %xdel  %xmode\n\nAvailable cell magics:\n%%!  %%HTML  %%SVG  %%bash  %%capture  %%cmd  %%debug  %%file  %%html  %%javascript  %%js  %%latex  %%perl  %%prun  %%pypy  %%python  %%python2  %%python3  %%ruby  %%script  %%sh  %%svg  %%sx  %%system  %%time  %%timeit  %%writefile\n\nAutomagic is ON, % prefix IS NOT needed for line magics."
      ]
     },
     "execution_count": 13,
     "metadata": {},
     "output_type": "execute_result"
    }
   ],
   "source": [
    "%lsmagic"
   ]
  },
  {
   "cell_type": "code",
   "execution_count": 14,
   "metadata": {},
   "outputs": [
    {
     "data": {
      "text/plain": [
       "'C:\\\\Learning'"
      ]
     },
     "execution_count": 14,
     "metadata": {},
     "output_type": "execute_result"
    }
   ],
   "source": [
    "%pwd"
   ]
  },
  {
   "cell_type": "code",
   "execution_count": 15,
   "metadata": {},
   "outputs": [
    {
     "name": "stdout",
     "output_type": "stream",
     "text": [
      " Volume in drive C is OS\n Volume Serial Number is AEB5-6339\n\n Directory of C:\\Learning\n\n26-12-2018  20:41    <DIR>          .\n26-12-2018  20:41    <DIR>          ..\n08-01-2019  22:12    <DIR>          .idea\n09-12-2018  10:24    <DIR>          __pycache__\n08-01-2019  22:13    <DIR>          Cory_Basic\n24-12-2018  22:35                 0 Credit.txt\n24-12-2018  21:15               563 CreditCard.txt\n24-12-2018  22:14                11 Creditcard1.txt\n06-12-2018  19:20               742 First.py\n05-01-2019  15:30    <DIR>          Generic\n09-12-2018  20:59    <DIR>          LearnFrmRaghav\n05-01-2019  14:55    <DIR>          Python\n26-12-2018  20:42    <DIR>          Python OOP\n06-12-2018  20:03             2,229 second_loop.py\n09-12-2018  10:24               325 Stud_Fun.py\n09-12-2018  10:24               234 Stud_FunCall.py\n24-12-2018  22:12            60,093 Tanv1i.jpg\n17-03-2018  12:48            60,093 Tanvi.jpg\n               9 File(s)        124,290 bytes\n               9 Dir(s)  266,830,458,880 bytes free\n"
     ]
    }
   ],
   "source": [
    "%ls"
   ]
  },
  {
   "cell_type": "code",
   "execution_count": 18,
   "metadata": {},
   "outputs": [
    {
     "name": "stdout",
     "output_type": "stream",
     "text": [
      " Volume in drive C is OS\n Volume Serial Number is AEB5-6339\n\n Directory of C:\\Learning\n\n"
     ]
    },
    {
     "name": "stderr",
     "output_type": "stream",
     "text": [
      "File Not Found\n"
     ]
    }
   ],
   "source": [
    "%ls -la"
   ]
  },
  {
   "cell_type": "code",
   "execution_count": null,
   "metadata": {},
   "outputs": [],
   "source": []
  }
 ],
 "metadata": {
  "kernelspec": {
   "display_name": "Python 2",
   "language": "python",
   "name": "python2"
  },
  "language_info": {
   "codemirror_mode": {
    "name": "ipython",
    "version": 2
   },
   "file_extension": ".py",
   "mimetype": "text/x-python",
   "name": "python",
   "nbconvert_exporter": "python",
   "pygments_lexer": "ipython2",
   "version": "2.7.6"
  }
 },
 "nbformat": 4,
 "nbformat_minor": 0
}
